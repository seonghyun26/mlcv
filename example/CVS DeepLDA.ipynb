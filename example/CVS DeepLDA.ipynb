{
 "cells": [
  {
   "cell_type": "markdown",
   "metadata": {
    "id": "xsFlHlZfV50f"
   },
   "source": [
    "# DeepLDA: Alanine dipeptide and aldol reaction"
   ]
  },
  {
   "cell_type": "markdown",
   "metadata": {
    "id": "vCZRjkEkV50i"
   },
   "source": [
    "Reference paper: _Bonati, Rizzi and Parrinello, [JCPL](https://pubs.acs.org/doi/10.1021/acs.jpclett.0c00535) (2020)_ [[arXiv]](https://arxiv.org/abs/2002.06562).\n",
    "\n",
    "Prerequisite: DeepLDA tutorial.\n",
    "\n",
    "[![Open in Colab](https://colab.research.google.com/assets/colab-badge.svg)](https://colab.research.google.com/github/luigibonati/mlcolvar/blob/main/docs/notebooks/examples/ex_DeepLDA.ipynb)"
   ]
  },
  {
   "cell_type": "markdown",
   "metadata": {
    "id": "AdcS8p3kV50i"
   },
   "source": [
    "## Setup"
   ]
  },
  {
   "cell_type": "code",
   "execution_count": 5,
   "metadata": {
    "id": "pHcc18VOV50j",
    "outputId": "43bb4f5e-ac62-48ef-dbb8-78e4581fa90d"
   },
   "outputs": [
    {
     "data": {
      "text/plain": [
       "<torch._C.Generator at 0x7ff06b451090>"
      ]
     },
     "execution_count": 5,
     "metadata": {},
     "output_type": "execute_result"
    }
   ],
   "source": [
    "# Colab setup\n",
    "import os\n",
    "\n",
    "if os.getenv(\"COLAB_RELEASE_TAG\"):\n",
    "    import subprocess\n",
    "    subprocess.run('wget https://raw.githubusercontent.com/luigibonati/mlcolvar/main/colab_setup.sh', shell=True)\n",
    "    cmd = subprocess.run('bash colab_setup.sh EXAMPLE', shell=True, stdout=subprocess.PIPE)\n",
    "    print(cmd.stdout.decode('utf-8'))\n",
    "\n",
    "# IMPORT PACKAGES\n",
    "import torch\n",
    "import lightning\n",
    "import numpy as np\n",
    "import matplotlib.pyplot as plt\n",
    "\n",
    "from torch.utils.data import Dataset\n",
    "from mlcolvar.data import DictDataset, DictModule\n",
    "\n",
    "# Set seed for reproducibility\n",
    "torch.manual_seed(41)"
   ]
  },
  {
   "cell_type": "markdown",
   "metadata": {
    "id": "GBMYRkzeV50k"
   },
   "source": [
    "## Alanine dipeptide"
   ]
  },
  {
   "cell_type": "markdown",
   "metadata": {
    "id": "UIi1qxD3V50k"
   },
   "source": [
    "We first train a DeepLDA CV on the alanine dipeptide data, which is one of the examples of the [DeepLDA paper](https://pubs.acs.org/doi/10.1021/acs.jpclett.0c00535). This is a small molecule often used as a benchmark for enhanced sampling, as it has two metastable states which are well described by the Ramachandran angles $\\phi$ and $\\psi$. To build a general mode, we will not use this information and just use as input features the 45 distances between heavy atoms.\n",
    "\n",
    "<center><img src=\"https://github.com/luigibonati/mlcolvar/blob/main/docs/notebooks/examples/images/alanine.png?raw=1\" width=\"500\" /></center>"
   ]
  },
  {
   "cell_type": "markdown",
   "metadata": {
    "id": "vCa99KRjV50l"
   },
   "source": [
    "### Load data"
   ]
  },
  {
   "cell_type": "markdown",
   "metadata": {
    "id": "opJSEsTmV50l"
   },
   "source": [
    "We use the alanine dipeptide simulation data from the [PLUMED-MASTERCLASS](https://github.com/luigibonati/masterclass-plumed/) repository."
   ]
  },
  {
   "cell_type": "code",
   "execution_count": 3,
   "metadata": {
    "id": "tW3UVcMRV50l",
    "outputId": "83351325-54ac-4737-8d0e-c703c28346c7"
   },
   "outputs": [
    {
     "name": "stdout",
     "output_type": "stream",
     "text": [
      "Class 0 dataframe shape:  (5001, 53)\n",
      "Class 1 dataframe shape:  (5001, 53)\n",
      "\n",
      " - Loaded dataframe (10002, 53): ['time', 'phi', 'psi', 'theta', 'xi', 'ene', 'd_2_5', 'd_2_6', 'd_2_7', 'd_2_9', 'd_2_11', 'd_2_15', 'd_2_16', 'd_2_17', 'd_2_19', 'd_5_6', 'd_5_7', 'd_5_9', 'd_5_11', 'd_5_15', 'd_5_16', 'd_5_17', 'd_5_19', 'd_6_7', 'd_6_9', 'd_6_11', 'd_6_15', 'd_6_16', 'd_6_17', 'd_6_19', 'd_7_9', 'd_7_11', 'd_7_15', 'd_7_16', 'd_7_17', 'd_7_19', 'd_9_11', 'd_9_15', 'd_9_16', 'd_9_17', 'd_9_19', 'd_11_15', 'd_11_16', 'd_11_17', 'd_11_19', 'd_15_16', 'd_15_17', 'd_15_19', 'd_16_17', 'd_16_19', 'd_17_19', 'walker', 'labels']\n",
      " - Descriptors (10002, 45): ['d_2_5', 'd_2_6', 'd_2_7', 'd_2_9', 'd_2_11', 'd_2_15', 'd_2_16', 'd_2_17', 'd_2_19', 'd_5_6', 'd_5_7', 'd_5_9', 'd_5_11', 'd_5_15', 'd_5_16', 'd_5_17', 'd_5_19', 'd_6_7', 'd_6_9', 'd_6_11', 'd_6_15', 'd_6_16', 'd_6_17', 'd_6_19', 'd_7_9', 'd_7_11', 'd_7_15', 'd_7_16', 'd_7_17', 'd_7_19', 'd_9_11', 'd_9_15', 'd_9_16', 'd_9_17', 'd_9_19', 'd_11_15', 'd_11_16', 'd_11_17', 'd_11_19', 'd_15_16', 'd_15_17', 'd_15_19', 'd_16_17', 'd_16_19', 'd_17_19']\n"
     ]
    }
   ],
   "source": [
    "from mlcolvar.utils.io import create_dataset_from_files\n",
    "from mlcolvar.data import DictModule\n",
    "\n",
    "filenames = [ \"https://raw.githubusercontent.com/luigibonati/masterclass-plumed/main/1_DeepLDA/0_unbiased-sA/COLVAR\",\n",
    "              \"https://raw.githubusercontent.com/luigibonati/masterclass-plumed/main/1_DeepLDA/0_unbiased-sB/COLVAR\" ]\n",
    "\n",
    "n_states = len(filenames)\n",
    "\n",
    "# load dataset\n",
    "dataset, df = create_dataset_from_files(filenames,\n",
    "                                        filter_args={'regex':'d_' }, # select distances between heavy atoms\n",
    "                                        create_labels=True,\n",
    "                                        return_dataframe=True,\n",
    "                                        )\n",
    "\n",
    "datamodule = DictModule(dataset,lengths=[0.8,0.2])"
   ]
  },
  {
   "cell_type": "markdown",
   "metadata": {
    "id": "IBsu3ukvV50l"
   },
   "source": [
    "We can inspect the distances through their histograms, from which we notice that no one is able to discriminate between the states."
   ]
  },
  {
   "cell_type": "code",
   "execution_count": null,
   "metadata": {
    "id": "CWHAJjjuV50m",
    "outputId": "df3e7bd1-c180-43e2-d6c9-07209500d0be"
   },
   "outputs": [],
   "source": [
    "descriptors_names = df.filter(regex='d_').columns.values\n",
    "\n",
    "fig,axs = plt.subplots(5,9,figsize=(20,10),sharey=True)\n",
    "\n",
    "for ax,desc in zip(axs.flatten(),descriptors_names):\n",
    "    df.pivot(columns='labels')[desc].plot.hist(bins=50,alpha=0.5,ax=ax,legend=False)\n",
    "    ax.set_title(desc)\n",
    "\n",
    "plt.tight_layout()"
   ]
  },
  {
   "cell_type": "code",
   "execution_count": 2,
   "metadata": {},
   "outputs": [],
   "source": [
    "class CL_dataset(Dataset):\n",
    "    def __init__(\n",
    "        self,\n",
    "        data_list,\n",
    "        data_augmented_list,\n",
    "        data_augmented_hard_list,\n",
    "        temperature_list,\n",
    "    ):\n",
    "        super(CL_dataset, self).__init__()\n",
    "        self.x = data_list\n",
    "        self.x_augmented = data_augmented_list\n",
    "        self.x_augmented_hard = data_augmented_hard_list\n",
    "        self.temperature = temperature_list\n",
    "        \n",
    "    def __getitem__(self, index):\n",
    "\t    return self.x[index], self.x_augmented[index], self.x_augmented_hard[index], self.temperature[index]\n",
    " \n",
    "    def __len__(self):\n",
    "\t    return self.x.shape[0]\n",
    " "
   ]
  },
  {
   "cell_type": "code",
   "execution_count": 17,
   "metadata": {},
   "outputs": [
    {
     "data": {
      "text/plain": [
       "torch.Size([400000])"
      ]
     },
     "execution_count": 17,
     "metadata": {},
     "output_type": "execute_result"
    }
   ],
   "source": [
    "custom_dataset = torch.load(\"../data/dataset/alanine/300.0/v3/cl-distance.pt\")\n",
    "custom_label = torch.tensor([0, 1], dtype=torch.float32).repeat(200000)\n",
    "custom_dataset.x.shape\n",
    "custom_label.shape"
   ]
  },
  {
   "cell_type": "code",
   "execution_count": 18,
   "metadata": {},
   "outputs": [],
   "source": [
    "new_dataset = DictDataset({\n",
    "\t\"data\": custom_dataset.x,\n",
    "\t\"labels\": custom_label\n",
    "})\n",
    "datamodule = DictModule(new_dataset,lengths=[0.8,0.2])"
   ]
  },
  {
   "cell_type": "markdown",
   "metadata": {
    "id": "e3iiLe79V50m"
   },
   "source": [
    "### Train DeepLDA"
   ]
  },
  {
   "cell_type": "markdown",
   "metadata": {
    "id": "qCBZ5WF-V50m"
   },
   "source": [
    "Define CV"
   ]
  },
  {
   "cell_type": "code",
   "execution_count": 19,
   "metadata": {
    "id": "U2DGWn2VV50m",
    "outputId": "f1a89a2d-984f-479a-f724-a5a0da7a92c3"
   },
   "outputs": [
    {
     "data": {
      "text/plain": [
       "DeepLDA(\n",
       "  (loss_fn): ReduceEigenvaluesLoss()\n",
       "  (norm_in): Normalization(in_features=45, out_features=45, mode=mean_std)\n",
       "  (nn): FeedForward(\n",
       "    (nn): Sequential(\n",
       "      (0): Linear(in_features=45, out_features=30, bias=True)\n",
       "      (1): ReLU(inplace=True)\n",
       "      (2): Linear(in_features=30, out_features=30, bias=True)\n",
       "      (3): ReLU(inplace=True)\n",
       "      (4): Linear(in_features=30, out_features=2, bias=True)\n",
       "    )\n",
       "  )\n",
       "  (lda): LDA(in_features=2, out_features=1)\n",
       ")"
      ]
     },
     "execution_count": 19,
     "metadata": {},
     "output_type": "execute_result"
    }
   ],
   "source": [
    "from mlcolvar.cvs import DeepLDA\n",
    "\n",
    "# n_input = dataset['data'].shape[-1]\n",
    "n_states=2\n",
    "n_input = 45\n",
    "nodes = [n_input,30,30,2]\n",
    "# MODEL\n",
    "model = DeepLDA(nodes, n_states=n_states)\n",
    "\n",
    "model"
   ]
  },
  {
   "cell_type": "markdown",
   "metadata": {
    "id": "xG2PwEXkV50m"
   },
   "source": [
    "Define trainer and fit"
   ]
  },
  {
   "cell_type": "code",
   "execution_count": null,
   "metadata": {
    "id": "ZLVRH1CpV50m",
    "outputId": "7c576571-d8aa-4a79-f4d8-004a4e22cffa"
   },
   "outputs": [],
   "source": [
    "from lightning.pytorch.callbacks.early_stopping import EarlyStopping\n",
    "from mlcolvar.utils.trainer import MetricsCallback\n",
    "\n",
    "# define callbacks\n",
    "metrics = MetricsCallback()\n",
    "early_stopping = EarlyStopping(monitor=\"valid_loss\", min_delta=0.1, patience=50)\n",
    "\n",
    "# define trainer\n",
    "trainer = lightning.Trainer(callbacks=[metrics, early_stopping],\n",
    "                     max_epochs=None, logger=None, enable_checkpointing=False)\n",
    "\n",
    "# fit\n",
    "trainer.fit( model, datamodule )"
   ]
  },
  {
   "cell_type": "code",
   "execution_count": 21,
   "metadata": {
    "id": "xOP0sO81V50m",
    "outputId": "c5fb07e3-59a4-4e53-94e9-8f9e9f520369"
   },
   "outputs": [
    {
     "data": {
      "image/png": "[encoded data removed]",
      "text/plain": [
       "<Figure size 500x400 with 1 Axes>"
      ]
     },
     "metadata": {},
     "output_type": "display_data"
    }
   ],
   "source": [
    "from mlcolvar.utils.plot import plot_metrics\n",
    "\n",
    "ax = plot_metrics(metrics.metrics,\n",
    "                  keys=[x for x in  metrics.metrics.keys() if 'eigval' in x and 'epoch' in x],#['train_loss_epoch','valid_loss'],\n",
    "                  yscale='linear')"
   ]
  },
  {
   "cell_type": "code",
   "execution_count": 22,
   "metadata": {},
   "outputs": [],
   "source": [
    "torch.save(model.state_dict(), 'deeplda-v2.pt')"
   ]
  },
  {
   "cell_type": "markdown",
   "metadata": {
    "id": "ReSeXRGyV50m"
   },
   "source": [
    "#### Analysis of the CV"
   ]
  },
  {
   "cell_type": "code",
   "execution_count": 7,
   "metadata": {
    "id": "gfLtHStGV50m"
   },
   "outputs": [],
   "source": [
    "# evaluate cv on training set and append to dataframe\n",
    "X = dataset[:]['data']\n",
    "model.eval()\n",
    "with torch.no_grad():\n",
    "    s = model(torch.Tensor(X)).numpy()\n",
    "\n",
    "n_components = n_states-1\n",
    "\n",
    "for i in range(n_components):\n",
    "    df[f'CV{i}'] = s[:,i]"
   ]
  },
  {
   "cell_type": "markdown",
   "metadata": {
    "id": "ZxWMKLp-V50n"
   },
   "source": [
    "As in the previous example, we can evaluate the histogram of the CV on the training set, from which we see how the two states are now discriminated."
   ]
  },
  {
   "cell_type": "code",
   "execution_count": 8,
   "metadata": {
    "id": "csa_usC7V50n",
    "outputId": "1e9f5ce2-83f1-4bac-8b57-7ed5aeee95ad"
   },
   "outputs": [
    {
     "data": {
      "image/png": "[encoded data removed]",
      "text/plain": [
       "<Figure size 500x400 with 1 Axes>"
      ]
     },
     "metadata": {},
     "output_type": "display_data"
    }
   ],
   "source": [
    "fig,axs = plt.subplots(1,n_components,figsize=(5*n_components,4))\n",
    "if n_components == 1:\n",
    "    axs = [axs]\n",
    "\n",
    "for i,ax in enumerate(axs):\n",
    "    ax.hist(s[:,i],bins=100)\n",
    "    ax.set_xlabel(f'CV {i}')\n",
    "    ax.set_ylabel('Histogram')"
   ]
  },
  {
   "cell_type": "markdown",
   "metadata": {
    "id": "BwGusPstV50n"
   },
   "source": [
    "Moreover, we can also visualize the CVs values on a physical space, e.g. in the Ramachandran plot ($\\phi$ and $\\psi$ space)."
   ]
  },
  {
   "cell_type": "code",
   "execution_count": 1,
   "metadata": {
    "id": "urHgfscPV50n",
    "outputId": "ea0c6d7f-603c-47b3-9c25-479aabe1961c"
   },
   "outputs": [
    {
     "ename": "NameError",
     "evalue": "name 'n_states' is not defined",
     "output_type": "error",
     "traceback": [
      "\u001b[0;31m---------------------------------------------------------------------------\u001b[0m",
      "\u001b[0;31mNameError\u001b[0m                                 Traceback (most recent call last)",
      "Cell \u001b[0;32mIn[1], line 1\u001b[0m\n\u001b[0;32m----> 1\u001b[0m n_components \u001b[38;5;241m=\u001b[39m \u001b[43mn_states\u001b[49m\u001b[38;5;241m-\u001b[39m\u001b[38;5;241m1\u001b[39m\n\u001b[1;32m      3\u001b[0m fig,axs \u001b[38;5;241m=\u001b[39m plt\u001b[38;5;241m.\u001b[39msubplots(\u001b[38;5;241m1\u001b[39m,n_components,figsize\u001b[38;5;241m=\u001b[39m(\u001b[38;5;241m5\u001b[39m\u001b[38;5;241m*\u001b[39mn_components,\u001b[38;5;241m4\u001b[39m))\n\u001b[1;32m      4\u001b[0m \u001b[38;5;28;01mif\u001b[39;00m n_components \u001b[38;5;241m==\u001b[39m \u001b[38;5;241m1\u001b[39m:\n",
      "\u001b[0;31mNameError\u001b[0m: name 'n_states' is not defined"
     ]
    }
   ],
   "source": [
    "n_components = n_states-1\n",
    "\n",
    "fig,axs = plt.subplots(1,n_components,figsize=(5*n_components,4))\n",
    "if n_components == 1:\n",
    "    axs = [axs]\n",
    "\n",
    "for i,ax in enumerate(axs):\n",
    "    df.plot.hexbin('phi','psi',C=f'CV{i}',cmap='fessa',ax=ax)\n",
    "    ax.set_title(f'CV {i} in phi/psi space')"
   ]
  },
  {
   "cell_type": "markdown",
   "metadata": {
    "id": "_nyDnvV1V50n"
   },
   "source": [
    "By performing an enhanced sampling simulation along the CV we can we can compute the free energy profile and compare the isolines in the whole Ramachandran plot, which show how the DeepLDA CV captures approximately the minimum free energy pathway connecting the two states."
   ]
  },
  {
   "cell_type": "markdown",
   "metadata": {
    "id": "t8RU7t8GV50n"
   },
   "source": [
    "<center><img src=\"https://github.com/luigibonati/mlcolvar/blob/main/docs/notebooks/examples/images/ala2-deeplda.png?raw=1\" width=\"500\" /></center>"
   ]
  },
  {
   "cell_type": "markdown",
   "metadata": {
    "id": "EnaQynONV50n"
   },
   "source": [
    "## Aldol reaction"
   ]
  },
  {
   "cell_type": "markdown",
   "metadata": {
    "id": "NURVnDUQV50n"
   },
   "source": [
    "In this second example we consider the second example reported in the paper, which is an intermolecular aldol reaction between vinyl alcohol and formaldehyde.\n",
    "\n",
    "We download the data from the [DeepLDA repository](https://github.com/luigibonati/data-driven-CVs/) associated to the [PLUMED-NEST](https://www.plumed-nest.org/eggs/20/004/) submission, which contains unbiased simulations of the reactants and products.\n",
    "\n",
    "<center><img src=\"https://github.com/luigibonati/mlcolvar/blob/main/docs/notebooks/examples/images/aldol-R.jpg?raw=1\" width=\"500\" /><img src=\"https://github.com/luigibonati/mlcolvar/blob/main/docs/notebooks/examples/images/aldol-P.jpg?raw=1\" width=\"500\" /></center>"
   ]
  },
  {
   "cell_type": "markdown",
   "metadata": {
    "id": "6NLOYeTGV50n"
   },
   "source": [
    "### Load data"
   ]
  },
  {
   "cell_type": "code",
   "execution_count": 10,
   "metadata": {
    "id": "y1GUPwIhV50n",
    "outputId": "d0922315-360c-49ae-e4c3-60f08468fa4c"
   },
   "outputs": [
    {
     "name": "stdout",
     "output_type": "stream",
     "text": [
      "Class 0 dataframe shape:  (5001, 43)\n",
      "Class 1 dataframe shape:  (5001, 43)\n",
      "\n",
      " - Loaded dataframe (10002, 43): ['time', 'cc2.0', 'cc2.1', 'cc2.2', 'oo2.0', 'co2.0', 'co2.1', 'co2.2', 'co2.3', 'co2.4', 'co2.5', 'ch2.0', 'ch2.1', 'ch2.2', 'ch2.3', 'ch2.4', 'ch2.5', 'ch2.6', 'ch2.7', 'ch2.8', 'ch2.9', 'ch2.10', 'ch2.11', 'ch2.12', 'ch2.13', 'ch2.14', 'ch2.15', 'ch2.16', 'ch2.17', 'oh2.0', 'oh2.1', 'oh2.2', 'oh2.3', 'oh2.4', 'oh2.5', 'oh2.6', 'oh2.7', 'oh2.8', 'oh2.9', 'oh2.10', 'oh2.11', 'walker', 'labels']\n",
      " - Descriptors (10002, 40): ['cc2.0', 'cc2.1', 'cc2.2', 'oo2.0', 'co2.0', 'co2.1', 'co2.2', 'co2.3', 'co2.4', 'co2.5', 'ch2.0', 'ch2.1', 'ch2.2', 'ch2.3', 'ch2.4', 'ch2.5', 'ch2.6', 'ch2.7', 'ch2.8', 'ch2.9', 'ch2.10', 'ch2.11', 'ch2.12', 'ch2.13', 'ch2.14', 'ch2.15', 'ch2.16', 'ch2.17', 'oh2.0', 'oh2.1', 'oh2.2', 'oh2.3', 'oh2.4', 'oh2.5', 'oh2.6', 'oh2.7', 'oh2.8', 'oh2.9', 'oh2.10', 'oh2.11']\n"
     ]
    }
   ],
   "source": [
    "# Set seed for reproducibility\n",
    "torch.manual_seed(1)\n",
    "\n",
    "from mlcolvar.utils.io import create_dataset_from_files\n",
    "from mlcolvar.data import DictModule\n",
    "\n",
    "filenames = [ \"https://raw.githubusercontent.com/luigibonati/data-driven-CVs/master/aldol/1_unbiased/INPUTS.R\",\n",
    "              \"https://raw.githubusercontent.com/luigibonati/data-driven-CVs/master/aldol/1_unbiased/INPUTS.P\" ]\n",
    "\n",
    "n_states = len(filenames)\n",
    "\n",
    "# load dataset\n",
    "dataset, df = create_dataset_from_files(filenames,\n",
    "                                        filter_args={'regex':'cc|oo|co|ch|oh' }, # select contacts\n",
    "                                        create_labels=True,\n",
    "                                        return_dataframe=True,\n",
    "                                        )\n",
    "\n",
    "datamodule = DictModule(dataset,lengths=[0.8,0.2])"
   ]
  },
  {
   "cell_type": "markdown",
   "metadata": {
    "id": "rWY0XPL1V50n"
   },
   "source": [
    "### Train DeepLDA CV"
   ]
  },
  {
   "cell_type": "code",
   "execution_count": 11,
   "metadata": {
    "id": "7Xpz-IAnV50n",
    "outputId": "d9505d8a-58e3-4621-d990-2d3ec7709ad1"
   },
   "outputs": [
    {
     "data": {
      "text/plain": [
       "DeepLDA(\n",
       "  (loss_fn): ReduceEigenvaluesLoss()\n",
       "  (norm_in): Normalization(in_features=40, out_features=40, mode=mean_std)\n",
       "  (nn): FeedForward(\n",
       "    (nn): Sequential(\n",
       "      (0): Linear(in_features=40, out_features=30, bias=True)\n",
       "      (1): Shifted_Softplus(beta=1, threshold=20)\n",
       "      (2): Linear(in_features=30, out_features=30, bias=True)\n",
       "      (3): Shifted_Softplus(beta=1, threshold=20)\n",
       "      (4): Linear(in_features=30, out_features=5, bias=True)\n",
       "    )\n",
       "  )\n",
       "  (lda): LDA(in_features=5, out_features=1)\n",
       ")"
      ]
     },
     "execution_count": 11,
     "metadata": {},
     "output_type": "execute_result"
    }
   ],
   "source": [
    "from mlcolvar.cvs import DeepLDA\n",
    "\n",
    "n_input           = dataset['data'].shape[-1]\n",
    "nodes             = [n_input,30,30,5]\n",
    "nn_args           = {'activation': 'shifted_softplus'}\n",
    "options           = {'nn': nn_args}\n",
    "# MODEL\n",
    "model = DeepLDA(nodes, n_states=n_states, options=options)\n",
    "\n",
    "model"
   ]
  },
  {
   "cell_type": "code",
   "execution_count": null,
   "metadata": {
    "id": "n3Qvfd2jV50o",
    "outputId": "dc187b6b-c15b-4df5-c570-3e152c341d91"
   },
   "outputs": [],
   "source": [
    "from lightning.pytorch.callbacks.early_stopping import EarlyStopping\n",
    "from mlcolvar.utils.trainer import MetricsCallback\n",
    "\n",
    "# define callbacks\n",
    "metrics = MetricsCallback()\n",
    "early_stopping = EarlyStopping(monitor=\"valid_loss\", min_delta=0.1, patience=50)\n",
    "\n",
    "# define trainer\n",
    "trainer = lightning.Trainer(callbacks=[metrics, early_stopping],\n",
    "                     max_epochs=None, logger=None, enable_checkpointing=False)\n",
    "\n",
    "# fit\n",
    "trainer.fit( model, datamodule )"
   ]
  },
  {
   "cell_type": "markdown",
   "metadata": {
    "id": "sI6QshTcV50o"
   },
   "source": [
    "Monitor learning curves"
   ]
  },
  {
   "cell_type": "code",
   "execution_count": 13,
   "metadata": {
    "id": "-To828mKV50o",
    "outputId": "9bccad55-3fba-4a04-9791-2483404a181c"
   },
   "outputs": [
    {
     "data": {
      "image/png": "[encoded data removed]",
      "text/plain": [
       "<Figure size 500x400 with 1 Axes>"
      ]
     },
     "metadata": {},
     "output_type": "display_data"
    }
   ],
   "source": [
    "from mlcolvar.utils.plot import plot_metrics\n",
    "\n",
    "ax = plot_metrics(metrics.metrics,\n",
    "                  keys=[x for x in  metrics.metrics.keys() if 'eigval' in x and 'epoch' in x],#['train_loss_epoch','valid_loss'],\n",
    "                  yscale='linear')"
   ]
  },
  {
   "cell_type": "markdown",
   "metadata": {
    "id": "0N1KMv4JV50o"
   },
   "source": [
    "#### Analysis of the CV"
   ]
  },
  {
   "cell_type": "code",
   "execution_count": 14,
   "metadata": {
    "id": "ys1h4prNV50o"
   },
   "outputs": [],
   "source": [
    "# evaluate cv on training set and append to dataframe\n",
    "X = dataset[:]['data']\n",
    "model.eval()\n",
    "with torch.no_grad():\n",
    "    s = model(torch.Tensor(X)).numpy()\n",
    "\n",
    "n_components = n_states-1\n",
    "\n",
    "for i in range(n_components):\n",
    "    df[f'CV{i}'] = s[:,i]"
   ]
  },
  {
   "cell_type": "markdown",
   "metadata": {
    "id": "8zzWot9RV50o"
   },
   "source": [
    "We can evaluate the histogram of the CV on the training set, from which we see how the two states are well discriminated."
   ]
  },
  {
   "cell_type": "code",
   "execution_count": 15,
   "metadata": {
    "id": "5HqT7eKaV50o",
    "outputId": "ab3b43f1-c8d8-4bf9-91f9-1605f9631620"
   },
   "outputs": [
    {
     "data": {
      "image/png": "[encoded data removed]",
      "text/plain": [
       "<Figure size 500x400 with 1 Axes>"
      ]
     },
     "metadata": {},
     "output_type": "display_data"
    }
   ],
   "source": [
    "fig,axs = plt.subplots(1,n_components,figsize=(5*n_components,4))\n",
    "if n_components == 1:\n",
    "    axs = [axs]\n",
    "\n",
    "for i,ax in enumerate(axs):\n",
    "    ax.hist(s[:,i],bins=100)\n",
    "    ax.set_xlabel(f'CV {i}')\n",
    "    ax.set_ylabel('Histogram')"
   ]
  },
  {
   "cell_type": "markdown",
   "metadata": {
    "id": "DWSgpi7bV50o"
   },
   "source": [
    "#### Features ranking"
   ]
  },
  {
   "cell_type": "markdown",
   "metadata": {
    "id": "zSNGfNolV50p"
   },
   "source": [
    "We can compute the feature importances by performing a sensitivity analysis, which amounts as measuring how sensitive is the CV $s$ to changes in the input features $x_i$, over a dataset $\\{\\mathbf{x}^{(j)}\\}_{j=1} ^N$:\n",
    "\n",
    "$$s_i = \\frac{1}{N} \\sum_j \\left|{\\frac{\\partial s}{\\partial x_i}(\\mathbf{x}^{(j)})}\\right| \\sigma_i$$\n",
    "\n",
    "where $\\sigma_i$ is the standard deviation, which is needed if the dataset is not standardized."
   ]
  },
  {
   "cell_type": "code",
   "execution_count": 17,
   "metadata": {
    "id": "YwrJw0uNV50p",
    "outputId": "a310721a-a2d3-453b-c5c1-e5c874cd67f2"
   },
   "outputs": [
    {
     "ename": "ModuleNotFoundError",
     "evalue": "No module named 'mlcolvar.explain'",
     "output_type": "error",
     "traceback": [
      "\u001b[0;31m---------------------------------------------------------------------------\u001b[0m",
      "\u001b[0;31mModuleNotFoundError\u001b[0m                       Traceback (most recent call last)",
      "Cell \u001b[0;32mIn[17], line 1\u001b[0m\n\u001b[0;32m----> 1\u001b[0m \u001b[38;5;28;01mfrom\u001b[39;00m \u001b[38;5;21;01mmlcolvar\u001b[39;00m\u001b[38;5;21;01m.\u001b[39;00m\u001b[38;5;21;01mexplain\u001b[39;00m \u001b[38;5;28;01mimport\u001b[39;00m sensitivity_analysis\n\u001b[1;32m      3\u001b[0m results \u001b[38;5;241m=\u001b[39m sensitivity_analysis(model, dataset, feature_names\u001b[38;5;241m=\u001b[39mdataset\u001b[38;5;241m.\u001b[39mfeature_names, per_class\u001b[38;5;241m=\u001b[39m\u001b[38;5;28;01mFalse\u001b[39;00m, plot_mode\u001b[38;5;241m=\u001b[39m\u001b[38;5;124m'\u001b[39m\u001b[38;5;124mbarh\u001b[39m\u001b[38;5;124m'\u001b[39m)\n",
      "\u001b[0;31mModuleNotFoundError\u001b[0m: No module named 'mlcolvar.explain'"
     ]
    }
   ],
   "source": [
    "from mlcolvar.explain import sensitivity_analysis\n",
    "\n",
    "results = sensitivity_analysis(model, dataset, feature_names=dataset.feature_names, per_class=False, plot_mode='barh')"
   ]
  },
  {
   "cell_type": "markdown",
   "metadata": {
    "id": "XP9Rgoh4V50p"
   },
   "source": [
    "This allows us to identify three dominant features. Indeed, if we plot their distributions, we find that these features undergo significant changes when going from the reactant to the product states"
   ]
  },
  {
   "cell_type": "code",
   "execution_count": null,
   "metadata": {
    "id": "TAUYmUn_V50p",
    "outputId": "a0f8c036-db43-4cfb-e9de-ef027bc15fe3"
   },
   "outputs": [
    {
     "data": {
      "image/png": "[encoded data removed]",
      "text/plain": [
       "<Figure size 900x300 with 3 Axes>"
      ]
     },
     "metadata": {},
     "output_type": "display_data"
    }
   ],
   "source": [
    "plot_n_features = 3\n",
    "\n",
    "names = results['feature_names'][-plot_n_features:]\n",
    "sensitivity = results['sensitivity']['Dataset'][-plot_n_features:]\n",
    "\n",
    "fig, axs = plt.subplots(1,plot_n_features,figsize=(3*plot_n_features,3))\n",
    "plt.suptitle('Distribution of the most relevant features')\n",
    "\n",
    "for ax,name,sensitivity in zip(axs.flatten()[::-1],names,sensitivity):\n",
    "    df.pivot(columns='labels')[name].plot.hist(bins=50,alpha=0.5,ax=ax)\n",
    "    ax.set_title(f'{name} ({np.round(sensitivity*100)}%)')\n",
    "    ax.legend(title='States',frameon=False)\n",
    "\n",
    "plt.tight_layout()"
   ]
  }
 ],
 "metadata": {
  "colab": {
   "provenance": []
  },
  "kernelspec": {
   "display_name": "cmd",
   "language": "python",
   "name": "python3"
  },
  "language_info": {
   "codemirror_mode": {
    "name": "ipython",
    "version": 3
   },
   "file_extension": ".py",
   "mimetype": "text/x-python",
   "name": "python",
   "nbconvert_exporter": "python",
   "pygments_lexer": "ipython3",
   "version": "3.9.19"
  },
  "orig_nbformat": 4
 },
 "nbformat": 4,
 "nbformat_minor": 0
}
